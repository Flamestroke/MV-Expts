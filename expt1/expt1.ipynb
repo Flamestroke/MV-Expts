{
 "cells": [
  {
   "cell_type": "code",
   "execution_count": 1,
   "id": "25fdc72e",
   "metadata": {},
   "outputs": [],
   "source": [
    "import cv2\n",
    "import numpy as np"
   ]
  },
  {
   "cell_type": "code",
   "execution_count": 2,
   "id": "06cfe8a5",
   "metadata": {},
   "outputs": [
    {
     "name": "stdout",
     "output_type": "stream",
     "text": [
      "(225, 225, 3)\n",
      "151875\n",
      "uint8\n"
     ]
    }
   ],
   "source": [
    "img = cv2.imread(\"Lena.jpg\");\n",
    "print(img.shape)\n",
    "print(img.size)\n",
    "print(img.dtype)"
   ]
  },
  {
   "cell_type": "code",
   "execution_count": 3,
   "id": "0032a136",
   "metadata": {},
   "outputs": [],
   "source": [
    "from cv2 import VideoCapture\n",
    "from cv2 import waitKey"
   ]
  },
  {
   "cell_type": "code",
   "execution_count": 4,
   "id": "4d5d43fa",
   "metadata": {},
   "outputs": [],
   "source": [
    "# Camera Needed\n",
    "\n",
    "vid = cv2.VideoCapture(0, cv2.CAP_DSHOW)\n",
    "fourcc = cv2.VideoWriter_fourcc(*'XVID')\n",
    "out = cv2.VideoWriter('demo.avi', fourcc, 20.0, (640,480))\n",
    "\n",
    "while(vid.isOpened()):\n",
    "    check, frame = vid.read()\n",
    "    if(check == True):\n",
    "        out.write(frame)\n",
    "        cv2.imshow('output', frame)\n",
    "        key = cv2.waitKey(1)\n",
    "        if key == ord('q'):\n",
    "            break\n",
    "    else:\n",
    "        break\n",
    "vid.release()\n",
    "cv2.destroyAllWindows()"
   ]
  },
  {
   "cell_type": "code",
   "execution_count": 5,
   "id": "f5d01329",
   "metadata": {},
   "outputs": [],
   "source": [
    "img = cv2.imread('Lena.jpg')\n",
    "cv2.imshow('Demo_Img', img)\n",
    "cv2.waitKey()\n",
    "cv2.destroyAllWindows()"
   ]
  },
  {
   "cell_type": "code",
   "execution_count": 6,
   "id": "7ba47803",
   "metadata": {},
   "outputs": [],
   "source": [
    "cap = cv2.VideoCapture('demo.avi')\n",
    "while(cap.isOpened()):\n",
    "    ret, frame = cap.read()\n",
    "    if ret == True:\n",
    "        cv2.imshow('frame', frame)\n",
    "        if cv2.waitKey(25) & 0xFF == ord('q'):\n",
    "            break\n",
    "    else:\n",
    "        break\n",
    "cap.release()\n",
    "cv2.destroyAllWindows()"
   ]
  }
 ],
 "metadata": {
  "kernelspec": {
   "display_name": "Python 3 (ipykernel)",
   "language": "python",
   "name": "python3"
  },
  "language_info": {
   "codemirror_mode": {
    "name": "ipython",
    "version": 3
   },
   "file_extension": ".py",
   "mimetype": "text/x-python",
   "name": "python",
   "nbconvert_exporter": "python",
   "pygments_lexer": "ipython3",
   "version": "3.9.12"
  }
 },
 "nbformat": 4,
 "nbformat_minor": 5
}
